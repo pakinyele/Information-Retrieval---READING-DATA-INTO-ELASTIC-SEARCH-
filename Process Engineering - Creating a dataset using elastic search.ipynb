{
 "cells": [
  {
   "cell_type": "markdown",
   "metadata": {},
   "source": [
    "## IMPORTING LIBRARIES"
   ]
  },
  {
   "cell_type": "code",
   "execution_count": 1,
   "metadata": {},
   "outputs": [
    {
     "name": "stdout",
     "output_type": "stream",
     "text": [
      "Requirement already satisfied: get in /Users/preciousakinyele/opt/anaconda3/lib/python3.7/site-packages (2019.4.13)\n",
      "Requirement already satisfied: query-string in /Users/preciousakinyele/opt/anaconda3/lib/python3.7/site-packages (from get) (2019.4.13)\n",
      "Requirement already satisfied: setuptools in /Users/preciousakinyele/opt/anaconda3/lib/python3.7/site-packages (from get) (41.4.0)\n",
      "Requirement already satisfied: public in /Users/preciousakinyele/opt/anaconda3/lib/python3.7/site-packages (from query-string->get) (2019.4.13)\n",
      "Note: you may need to restart the kernel to use updated packages.\n"
     ]
    }
   ],
   "source": [
    "pip install get"
   ]
  },
  {
   "cell_type": "code",
   "execution_count": 2,
   "metadata": {},
   "outputs": [],
   "source": [
    "import sys\n",
    "import post\n",
    "import get\n",
    "import pandas\n",
    "import json\n",
    "#import json_lines #package helps to read document\n",
    "import requests\n",
    "from elasticsearch import Elasticsearch"
   ]
  },
  {
   "cell_type": "markdown",
   "metadata": {},
   "source": [
    "## CONNECTING TO ELASTIC SEARCH"
   ]
  },
  {
   "cell_type": "code",
   "execution_count": 4,
   "metadata": {},
   "outputs": [
    {
     "name": "stdout",
     "output_type": "stream",
     "text": [
      "b'{\\n  \"name\" : \"Preciouss-MacBook-Pro.local\",\\n  \"cluster_name\" : \"elasticsearch\",\\n  \"cluster_uuid\" : \"sN0UL-sLTyeD7H-HagVcyQ\",\\n  \"version\" : {\\n    \"number\" : \"7.6.1\",\\n    \"build_flavor\" : \"default\",\\n    \"build_type\" : \"tar\",\\n    \"build_hash\" : \"aa751e09be0a5072e8570670309b1f12348f023b\",\\n    \"build_date\" : \"2020-02-29T00:15:25.529771Z\",\\n    \"build_snapshot\" : false,\\n    \"lucene_version\" : \"8.4.0\",\\n    \"minimum_wire_compatibility_version\" : \"6.8.0\",\\n    \"minimum_index_compatibility_version\" : \"6.0.0-beta1\"\\n  },\\n  \"tagline\" : \"You Know, for Search\"\\n}\\n'\n"
     ]
    }
   ],
   "source": [
    "res = requests.get('http://localhost:9200')\n",
    "es = Elasticsearch([{'host': 'localhost', 'port':9200}])\n",
    "print(res.content)"
   ]
  },
  {
   "cell_type": "markdown",
   "metadata": {},
   "source": [
    "## INDEXING"
   ]
  },
  {
   "cell_type": "code",
   "execution_count": 3,
   "metadata": {},
   "outputs": [
    {
     "name": "stdout",
     "output_type": "stream",
     "text": [
      "DONE\n"
     ]
    }
   ],
   "source": [
    "with open('sample-1M.jsonl', encoding = \"utf-8\") as file:\n",
    "    i = 0\n",
    "    for line in file:\n",
    "        if i > 6000: #loop to read 6000 document \n",
    "            continue\n",
    "        else: # if the loop less than 6000 so we add one document at a time\n",
    "            line = json.dumps(line)\n",
    "        decode = json.loads(line) # decode the id of the document\n",
    "        es.index(id = i, index = \"my_sample\", doc_type = \"doc_type\", body = json.loads(line, encoding=\"utf-8\")) #document addition to database\n",
    "        i += 1\n",
    "print(\"DONE\")"
   ]
  },
  {
   "cell_type": "markdown",
   "metadata": {},
   "source": [
    "## SEARCHING "
   ]
  },
  {
   "cell_type": "markdown",
   "metadata": {},
   "source": [
    "## BUILDING A TEST COLLECTION"
   ]
  },
  {
   "cell_type": "code",
   "execution_count": 123,
   "metadata": {},
   "outputs": [
    {
     "data": {
      "text/plain": [
       "{'_index': 'my_sample',\n",
       " '_type': 'doc_type',\n",
       " '_id': '65',\n",
       " '_version': 2,\n",
       " '_seq_no': 6066,\n",
       " '_primary_term': 1,\n",
       " 'found': True,\n",
       " '_source': {'id': '2cba2129-133f-42a0-b4b2-59491a7f3894',\n",
       "  'content': \"Seth Russell threw for 376 yards and five touchdowns and also ran for a score to help fourth-ranked Baylor open the season with a 56-21 victory at SMU on Friday night.The two-time defending Big 12 champion Bears finally got to start fresh after the long, long offseason that followed their playoff snub last season.SMU played its first game for new coach Chad Morris, Clemson's offensive coordinator the past four seasons. The Mustangs, who scored only 12 total points their first four games last season, including a 45-0 loss at Baylor, had 21 points in the first 1 1/2 quarters.Jay Lee had three TD catches for the Bears, who had 723 total yards.Dual-threat quarterback Matt Davis had 166 yards passing and 115 rushing for SMU. But he was sacked on the final play of the first half with the Mustangs at the 3 and down only 28-21.\\xa0\",\n",
       "  'title': 'No. 4 Baylor shows plenty of offense in 56-21 win at SMU',\n",
       "  'media-type': 'News',\n",
       "  'source': 'LocalNews7.com',\n",
       "  'published': '2015-09-04T17:20:30Z'}}"
      ]
     },
     "execution_count": 123,
     "metadata": {},
     "output_type": "execute_result"
    }
   ],
   "source": [
    "es.get(index='my_sample', doc_type='doc_type', id=65)"
   ]
  },
  {
   "cell_type": "code",
   "execution_count": 102,
   "metadata": {},
   "outputs": [
    {
     "data": {
      "text/plain": [
       "{'took': 6,\n",
       " 'timed_out': False,\n",
       " '_shards': {'total': 1, 'successful': 1, 'skipped': 0, 'failed': 0},\n",
       " 'hits': {'total': {'value': 1033, 'relation': 'eq'},\n",
       "  'max_score': 11.342699,\n",
       "  'hits': [{'_index': 'my_sample',\n",
       "    '_type': 'doc_type',\n",
       "    '_id': '1930',\n",
       "    '_score': 11.342699,\n",
       "    '_source': {'title': \"Ex-Governor Akpabio's credit card declined at London hotel (Photos)\"}},\n",
       "   {'_index': 'my_sample',\n",
       "    '_type': 'doc_type',\n",
       "    '_id': '653',\n",
       "    '_score': 8.489851,\n",
       "    '_source': {'title': 'Minor Hotel Group to co-invest with Nakheel for first AVANI Hotel in Dubai'}},\n",
       "   {'_index': 'my_sample',\n",
       "    '_type': 'doc_type',\n",
       "    '_id': '1861',\n",
       "    '_score': 8.082817,\n",
       "    '_source': {'title': 'Central Melbourne divided in battle for hotel beds'}},\n",
       "   {'_index': 'my_sample',\n",
       "    '_type': 'doc_type',\n",
       "    '_id': '1455',\n",
       "    '_score': 7.8387413,\n",
       "    '_source': {'title': 'Israeli Prime Minister Provides Target for Protestors in London'}},\n",
       "   {'_index': 'my_sample',\n",
       "    '_type': 'doc_type',\n",
       "    '_id': '926',\n",
       "    '_score': 7.727968,\n",
       "    '_source': {'title': \"New hotel planned for vacant building in Newark's downtown\"}},\n",
       "   {'_index': 'my_sample',\n",
       "    '_type': 'doc_type',\n",
       "    '_id': '1560',\n",
       "    '_score': 7.65635,\n",
       "    '_source': {'title': 'Dinosaur Pile-Up | London'}},\n",
       "   {'_index': 'my_sample',\n",
       "    '_type': 'doc_type',\n",
       "    '_id': '3936',\n",
       "    '_score': 7.514423,\n",
       "    '_source': {'title': 'Hotel Transylvania 2 (2015)'}},\n",
       "   {'_index': 'my_sample',\n",
       "    '_type': 'doc_type',\n",
       "    '_id': '717',\n",
       "    '_score': 7.2980537,\n",
       "    '_source': {'title': 'Best Selling Hammock Straps Back In Stock'}},\n",
       "   {'_index': 'my_sample',\n",
       "    '_type': 'doc_type',\n",
       "    '_id': '843',\n",
       "    '_score': 7.206028,\n",
       "    '_source': {'title': \"That Podcast: Episode 22: The one where we're in London again\"}},\n",
       "   {'_index': 'my_sample',\n",
       "    '_type': 'doc_type',\n",
       "    '_id': '4062',\n",
       "    '_score': 7.206028,\n",
       "    '_source': {'title': 'Cute fanpic of Rob in London with a fan - Sept.29th'}}]}}"
      ]
     },
     "execution_count": 102,
     "metadata": {},
     "output_type": "execute_result"
    }
   ],
   "source": [
    "#hotel\n",
    "es.search(index=\"my_sample\", body={'query': {'simple_query_string': {'query': '(best hotel in london)',\n",
    "   'fields': ['title', 'authors', 'summary^2']}},\n",
    " '_source': ['title', 'summary', 'authors'],\n",
    " 'highlight': {'fields': {'summary': {}}}})"
   ]
  },
  {
   "cell_type": "code",
   "execution_count": 108,
   "metadata": {},
   "outputs": [
    {
     "data": {
      "text/plain": [
       "{'took': 2,\n",
       " 'timed_out': False,\n",
       " '_shards': {'total': 1, 'successful': 1, 'skipped': 0, 'failed': 0},\n",
       " 'hits': {'total': {'value': 1089, 'relation': 'eq'},\n",
       "  'max_score': 20.707144,\n",
       "  'hits': [{'_index': 'my_sample',\n",
       "    '_type': 'doc_type',\n",
       "    '_id': '109',\n",
       "    '_score': 20.707144,\n",
       "    '_source': {'title': 'Christmas holiday dollar-saving tips'}},\n",
       "   {'_index': 'my_sample',\n",
       "    '_type': 'doc_type',\n",
       "    '_id': '971',\n",
       "    '_score': 13.934044,\n",
       "    '_source': {'title': 'Colorado Marijuana Holiday Saves Shoppers, Growers Big Bucks'}},\n",
       "   {'_index': 'my_sample',\n",
       "    '_type': 'doc_type',\n",
       "    '_id': '1534',\n",
       "    '_score': 12.984816,\n",
       "    '_source': {'title': 'Peppermint Horses Kiss Holiday Horse with Christmas Feather Crystals upon Candy Cane Pony Kisses of Minty Peppermints'}},\n",
       "   {'_index': 'my_sample',\n",
       "    '_type': 'doc_type',\n",
       "    '_id': '2551',\n",
       "    '_score': 11.162229,\n",
       "    '_source': {'title': 'Mike Khouw Sees Unusual Options Activity In Best Buy'}},\n",
       "   {'_index': 'my_sample',\n",
       "    '_type': 'doc_type',\n",
       "    '_id': '994',\n",
       "    '_score': 11.077043,\n",
       "    '_source': {'title': \"Up to 30,000 Britons are eligible to claim compensation after Spanish government was forced to change 'unfair' inheritance tax laws on holiday homes\"}},\n",
       "   {'_index': 'my_sample',\n",
       "    '_type': 'doc_type',\n",
       "    '_id': '5389',\n",
       "    '_score': 10.399244,\n",
       "    '_source': {'title': 'TFO launches an all-video platform: A one-stop destination for audiences seeking educational content for the digital age'}},\n",
       "   {'_index': 'my_sample',\n",
       "    '_type': 'doc_type',\n",
       "    '_id': '3372',\n",
       "    '_score': 10.352396,\n",
       "    '_source': {'title': 'Museum of Islamic Art and Mathaf, Qatar, shortlisted for LCD ‘Oscar’ awards'}},\n",
       "   {'_index': 'my_sample',\n",
       "    '_type': 'doc_type',\n",
       "    '_id': '2901',\n",
       "    '_score': 10.221378,\n",
       "    '_source': {'title': 'Yuma locals spend their Labor Day at the river'}},\n",
       "   {'_index': 'my_sample',\n",
       "    '_type': 'doc_type',\n",
       "    '_id': '4944',\n",
       "    '_score': 9.541913,\n",
       "    '_source': {'title': 'Diesel dependability in Chevrolet’s best-selling car — Chevy Cruze'}},\n",
       "   {'_index': 'my_sample',\n",
       "    '_type': 'doc_type',\n",
       "    '_id': '3897',\n",
       "    '_score': 9.237418,\n",
       "    '_source': {'title': \"From traveling, i've learned to be grateful a lot, u have feet to walk to reach your destination, have eyes to see the roads and the beauty of the places,etc. Always be grateful for what you have. photo & caption by @mynadilas_ Lokasi: Coban Watu Ondo Cob\"}}]}}"
      ]
     },
     "execution_count": 108,
     "metadata": {},
     "output_type": "execute_result"
    }
   ],
   "source": [
    "#holidays\n",
    "es.search(index=\"my_sample\", body={'query': {'simple_query_string': {'query': '(nice holiday destination)',\n",
    "   'fields': ['content','title', 'authors','summary^2']}},\n",
    " '_source': ['title', 'summary', 'authors'],\n",
    " 'highlight': {'fields': {'summary': {}}}})"
   ]
  },
  {
   "cell_type": "code",
   "execution_count": 81,
   "metadata": {},
   "outputs": [
    {
     "data": {
      "text/plain": [
       "{'took': 1,\n",
       " 'timed_out': False,\n",
       " '_shards': {'total': 1, 'successful': 1, 'skipped': 0, 'failed': 0},\n",
       " 'hits': {'total': {'value': 35, 'relation': 'eq'},\n",
       "  'max_score': 11.342699,\n",
       "  'hits': [{'_index': 'my_sample',\n",
       "    '_type': 'doc_type',\n",
       "    '_id': '1930',\n",
       "    '_score': 11.342699,\n",
       "    '_source': {'title': \"Ex-Governor Akpabio's credit card declined at London hotel (Photos)\"}},\n",
       "   {'_index': 'my_sample',\n",
       "    '_type': 'doc_type',\n",
       "    '_id': '1560',\n",
       "    '_score': 7.65635,\n",
       "    '_source': {'title': 'Dinosaur Pile-Up | London'}},\n",
       "   {'_index': 'my_sample',\n",
       "    '_type': 'doc_type',\n",
       "    '_id': '3936',\n",
       "    '_score': 7.514423,\n",
       "    '_source': {'title': 'Hotel Transylvania 2 (2015)'}},\n",
       "   {'_index': 'my_sample',\n",
       "    '_type': 'doc_type',\n",
       "    '_id': '653',\n",
       "    '_score': 6.9621663,\n",
       "    '_source': {'title': 'Minor Hotel Group to co-invest with Nakheel for first AVANI Hotel in Dubai'}},\n",
       "   {'_index': 'my_sample',\n",
       "    '_type': 'doc_type',\n",
       "    '_id': '4010',\n",
       "    '_score': 6.8821282,\n",
       "    '_source': {'title': 'Photograph 51 – Noel Coward Theatre, London'}},\n",
       "   {'_index': 'my_sample',\n",
       "    '_type': 'doc_type',\n",
       "    '_id': '1001',\n",
       "    '_score': 6.550909,\n",
       "    '_source': {'title': 'Thousands march through London to support refugees'}},\n",
       "   {'_index': 'my_sample',\n",
       "    '_type': 'doc_type',\n",
       "    '_id': '4440',\n",
       "    '_score': 6.2501073,\n",
       "    '_source': {'title': 'Meantime unveils free brewing tour of London app'}},\n",
       "   {'_index': 'my_sample',\n",
       "    '_type': 'doc_type',\n",
       "    '_id': '1861',\n",
       "    '_score': 6.1342483,\n",
       "    '_source': {'title': 'Central Melbourne divided in battle for hotel beds'}},\n",
       "   {'_index': 'my_sample',\n",
       "    '_type': 'doc_type',\n",
       "    '_id': '2235',\n",
       "    '_score': 6.1342483,\n",
       "    '_source': {'title': \"Eden hotel scoops a national 'good value' award\"}},\n",
       "   {'_index': 'my_sample',\n",
       "    '_type': 'doc_type',\n",
       "    '_id': '5146',\n",
       "    '_score': 6.1342483,\n",
       "    '_source': {'title': 'Our Stay at the Denver Grand Hyatt Hotel'}}]}}"
      ]
     },
     "execution_count": 81,
     "metadata": {},
     "output_type": "execute_result"
    }
   ],
   "source": [
    "es.search(index=\"my_sample\", body={'query': {'simple_query_string': {'query': '(hotel) | (London)',\n",
    "   'fields': ['title', 'authors', 'summary^2']}},\n",
    " '_source': ['title', 'summary', 'authors'],\n",
    " 'highlight': {'fields': {'summary': {}}}})"
   ]
  },
  {
   "cell_type": "code",
   "execution_count": null,
   "metadata": {},
   "outputs": [],
   "source": []
  }
 ],
 "metadata": {
  "kernelspec": {
   "display_name": "Python 3",
   "language": "python",
   "name": "python3"
  },
  "language_info": {
   "codemirror_mode": {
    "name": "ipython",
    "version": 3
   },
   "file_extension": ".py",
   "mimetype": "text/x-python",
   "name": "python",
   "nbconvert_exporter": "python",
   "pygments_lexer": "ipython3",
   "version": "3.7.4"
  }
 },
 "nbformat": 4,
 "nbformat_minor": 2
}
